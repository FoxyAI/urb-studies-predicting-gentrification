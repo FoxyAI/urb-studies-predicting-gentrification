{
 "cells": [
  {
   "cell_type": "code",
   "execution_count": null,
   "metadata": {},
   "outputs": [],
   "source": [
    "from bs4 import BeautifulSoup\n",
    "import pandas as pd\n",
    "import requests\n",
    "import urllib\n",
    "import six\n",
    "import re\n",
    "import os\n",
    "from geoconvert import geoconvert\n",
    "\n",
    "src = os.path.join('data','src')"
   ]
  },
  {
   "cell_type": "code",
   "execution_count": null,
   "metadata": {},
   "outputs": [],
   "source": [
    "if not os.path.exists(os.path.join(src,'GeoConvertTest.csv')):\n",
    "    print(\"Extracting for testing with GeoConvert: \" + os.path.join(src,'2001','ks004.csv.gz'))\n",
    "    \n",
    "    test = pd.read_csv(os.path.join(src,'2001','ks004.csv.gz'), \n",
    "                        header=5, skipfooter=4, skip_blank_lines=True, engine='python', compression='gzip')#, na_values=\"..\")\n",
    "\n",
    "    test.rename(columns={\n",
    "        'super output areas - lower layer':'lsoanm',\n",
    "        'mnemonic':'lsoacd',\n",
    "        'All people':'total',\n",
    "    }, inplace=True)\n",
    "    \n",
    "    test = test.loc[:,('lsoacd','total')]\n",
    "\n",
    "    # Save it\n",
    "    test.to_csv(os.path.join(src,'GeoConvertTest.csv'), index=False)\n",
    "\n",
    "print(\"Done.\")"
   ]
  },
  {
   "cell_type": "code",
   "execution_count": null,
   "metadata": {},
   "outputs": [],
   "source": [
    "gc = geoconvert.geoconvert()\n",
    "gc.auto_2001_to_2011(os.path.join(src,'GeoConvertTest.csv'))"
   ]
  },
  {
   "cell_type": "code",
   "execution_count": null,
   "metadata": {},
   "outputs": [],
   "source": [
    "dfc = pd.read_csv(os.path.join('GeoConvertTest-converted.csv'), index_col=False)\n",
    "    \n",
    "dfc.describe()"
   ]
  }
 ],
 "metadata": {
  "kernelspec": {
   "display_name": "ML Gentrification",
   "language": "python",
   "name": "mlgent"
  },
  "language_info": {
   "codemirror_mode": {
    "name": "ipython",
    "version": 3
   },
   "file_extension": ".py",
   "mimetype": "text/x-python",
   "name": "python",
   "nbconvert_exporter": "python",
   "pygments_lexer": "ipython3",
   "version": "3.6.5"
  }
 },
 "nbformat": 4,
 "nbformat_minor": 2
}
