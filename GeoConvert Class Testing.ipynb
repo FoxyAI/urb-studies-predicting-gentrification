{
 "cells": [
  {
   "cell_type": "code",
   "execution_count": 1,
   "metadata": {},
   "outputs": [],
   "source": [
    "from bs4 import BeautifulSoup\n",
    "import requests\n",
    "import urllib\n",
    "import six\n",
    "import re\n",
    "import os\n",
    "from geoconvert import geoconvert\n",
    "p = geoconvert.form_parser()"
   ]
  },
  {
   "cell_type": "code",
   "execution_count": 2,
   "metadata": {},
   "outputs": [
    {
     "name": "stdout",
     "output_type": "stream",
     "text": [
      "Session started...\n",
      "\tToken: d73da9fbcc068b4f-F3E41632-2DAC-74CE-DF7D818A387DA849\n",
      "Conversion specified...\n",
      "LSOA source specified...\n",
      "LSOA target specified...\n",
      "2001 to 2011 LSOA conversion specified...\n",
      "Ready to submit data...\n",
      "File 'Qualifications.csv' uploaded for conversion\n",
      "Annoying extra step to access converted files complete.\n",
      "Downloading: Qualifications-matched.csv\n",
      "Downloading: Qualifications-converted.csv\n"
     ]
    }
   ],
   "source": [
    "gc = geoconvert.geoconvert()\n",
    "gc.auto_2001_to_2011(os.path.join('data','src','2001','scores','Qualifications.csv'))"
   ]
  }
 ],
 "metadata": {
  "kernelspec": {
   "display_name": "ML Gentrification",
   "language": "python",
   "name": "mlgent"
  },
  "language_info": {
   "codemirror_mode": {
    "name": "ipython",
    "version": 3
   },
   "file_extension": ".py",
   "mimetype": "text/x-python",
   "name": "python",
   "nbconvert_exporter": "python",
   "pygments_lexer": "ipython3",
   "version": "3.6.5"
  }
 },
 "nbformat": 4,
 "nbformat_minor": 2
}
