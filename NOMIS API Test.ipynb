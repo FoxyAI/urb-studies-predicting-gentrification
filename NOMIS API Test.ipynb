{
 "cells": [
  {
   "cell_type": "markdown",
   "metadata": {},
   "source": [
    "* Select your dataset\n",
    "* Select only the region in your query and not the LSOAs - so in the case of your query, choose the \"London\" region as an individual selection (not using \"areas within\").\n",
    "* Continue to select other options to build up your query as normal\n",
    "* Select the \"Nomis API\" download format and you should get the page with the API links (ignore the first tab and go to the \"Complete list of API links\" page to get the URL)\n",
    "* When you get the URL, modify it as in the example below\n",
    "\n",
    "Example of modifying the URL is below, the change involves simply telling the API you want all LSOAs in the area you have selected, you do this by adding the text \"TYPE304\" (which is the code for 2001 LSOAs) to the geography code. The code for 2011 LSOAs is TYPE298.\n",
    "\n",
    "Original URL for the query London region:\n",
    "http://www.nomisweb.co.uk/api/v01/dataset/NM_1673_1.bulk.csv?date=latest&geography=2013265927&dwelling_type=0,3...5,7...9&measures=20100\n",
    "\n",
    "Modified URL for the query selecting all LSOAs in London region:\n",
    "http://www.nomisweb.co.uk/api/v01/dataset/NM_1673_1.bulk.csv?date=latest&geography=2013265927TYPE304&dwelling_type=0,3...5,7...9&measures=20100\n"
   ]
  },
  {
   "cell_type": "code",
   "execution_count": 6,
   "metadata": {},
   "outputs": [
    {
     "name": "stdout",
     "output_type": "stream",
     "text": [
      "http://www.nomisweb.co.uk/api/v01/dataset/NM_568_1.bulk.csv?date=latest&geography=2013265927TYPE304&rural_urban=0&cell=0...12&measures=20100&select=date_name,geography_name,geography_code,rural_urban_name,cell_name,measures_name,obs_value,obs_status_name\n"
     ]
    }
   ],
   "source": [
    "# 2011 TTW Data (need a different geography TYPE304 for 2001)\n",
    "url = ('http://www.nomisweb.co.uk/api/v01/dataset/',\n",
    "       'NM_568_1.bulk.csv?',\n",
    "       'date=latest&',\n",
    "       'geography=2013265927TYPE298&',\n",
    "       'rural_urban=0&',\n",
    "       'cell=0...12&',\n",
    "       'measures=20100&',\n",
    "       'select=date_name,geography_name,geography_code,rural_urban_name,cell_name,measures_name,obs_value,obs_status_name')\n",
    "\n",
    "print(\"\".join(url))"
   ]
  }
 ],
 "metadata": {
  "kernelspec": {
   "display_name": "Geocomp",
   "language": "python",
   "name": "gsa2018"
  },
  "language_info": {
   "codemirror_mode": {
    "name": "ipython",
    "version": 3
   },
   "file_extension": ".py",
   "mimetype": "text/x-python",
   "name": "python",
   "nbconvert_exporter": "python",
   "pygments_lexer": "ipython3",
   "version": "3.6.5"
  }
 },
 "nbformat": 4,
 "nbformat_minor": 2
}
